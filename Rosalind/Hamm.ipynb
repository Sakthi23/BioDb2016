{
 "cells": [
  {
   "cell_type": "code",
   "execution_count": 5,
   "metadata": {
    "collapsed": false
   },
   "outputs": [
    {
     "name": "stdout",
     "output_type": "stream",
     "text": [
      "Enter the filename:rosalind_hamm.txt\n",
      "468\n"
     ]
    }
   ],
   "source": [
    "filename = input('Enter the filename:')\n",
    "f = open(filename, \"r\")\n",
    "array = f.readlines()\n",
    "\n",
    "string_a = array[0]\n",
    "string_b = array[1]\n",
    "#print (len(string_a))\n",
    "#print (len(string_b))\n",
    "distance = 0\n",
    "for i in range(len(string_a)):\n",
    "    if string_a[i] != string_b[i]:\n",
    "        distance = distance + 1\n",
    "\n",
    "print (distance)"
   ]
  }
 ],
 "metadata": {
  "kernelspec": {
   "display_name": "Python 3",
   "language": "python",
   "name": "python3"
  },
  "language_info": {
   "codemirror_mode": {
    "name": "ipython",
    "version": 3
   },
   "file_extension": ".py",
   "mimetype": "text/x-python",
   "name": "python",
   "nbconvert_exporter": "python",
   "pygments_lexer": "ipython3",
   "version": "3.5.2"
  }
 },
 "nbformat": 4,
 "nbformat_minor": 0
}
