{
 "cells": [
  {
   "cell_type": "code",
   "execution_count": 3,
   "metadata": {
    "collapsed": false
   },
   "outputs": [
    {
     "name": "stdout",
     "output_type": "stream",
     "text": [
      "Enter the filename:rosalind_gc.txt\n",
      "Rosalind_2198\n",
      "52.031603\n"
     ]
    }
   ],
   "source": [
    "filename = input('Enter the filename:')\n",
    "s=open(filename).readlines()\n",
    "\n",
    "name_list=[]\n",
    "seq_list=[]\n",
    "data=''\n",
    "\n",
    "for line in s:\n",
    "    line=line.strip()\n",
    "    for i in line:\n",
    "        if i == '>':\n",
    "            name_list.append(line[1:])\n",
    "            if data:\n",
    "                seq_list.append(data)\n",
    "                data=''\n",
    "            break\n",
    "        else:\n",
    "            line=line.upper()\n",
    "    if all([k==k.upper() for k in line]):\n",
    "        data=data+line\n",
    "        \n",
    "seq_list.append(data) \n",
    "GC_list=[]\n",
    "for seq in seq_list:\n",
    "    GC_count=0\n",
    "    for char in seq:\n",
    "        if char ==\"G\" or char =='C':\n",
    "            GC_count +=1\n",
    "    GC_cont=(GC_count/len(seq))*100\n",
    "    GC_list.append(GC_cont)\n",
    "\n",
    "\n",
    "m=max(GC_list)\n",
    "print (name_list[GC_list.index(m)])\n",
    "print (\"{:0.6f}\".format(m))"
   ]
  }
 ],
 "metadata": {
  "kernelspec": {
   "display_name": "Python 3",
   "language": "python",
   "name": "python3"
  },
  "language_info": {
   "codemirror_mode": {
    "name": "ipython",
    "version": 3
   },
   "file_extension": ".py",
   "mimetype": "text/x-python",
   "name": "python",
   "nbconvert_exporter": "python",
   "pygments_lexer": "ipython3",
   "version": "3.5.2"
  }
 },
 "nbformat": 4,
 "nbformat_minor": 0
}
