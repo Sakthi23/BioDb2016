{
 "cells": [
  {
   "cell_type": "code",
   "execution_count": 5,
   "metadata": {
    "collapsed": true
   },
   "outputs": [],
   "source": [
    "import pandas as pd\n",
    "import pymysql\n",
    "import re,json,os"
   ]
  },
  {
   "cell_type": "code",
   "execution_count": 6,
   "metadata": {
    "collapsed": false
   },
   "outputs": [
    {
     "name": "stderr",
     "output_type": "stream",
     "text": [
      "C:\\Users\\Sakthi\\Anaconda2\\envs\\ipykernel_py3\\lib\\site-packages\\pymysql\\cursors.py:323: Warning: (1007, \"Can't create database 'biodb'; database exists\")\n",
      "  self._do_get_result()\n"
     ]
    },
    {
     "data": {
      "text/plain": [
       "1"
      ]
     },
     "execution_count": 6,
     "metadata": {},
     "output_type": "execute_result"
    }
   ],
   "source": [
    "base = os.environ['BUG_FREE_EUREKA_BASE']\n",
    "pathTofile = os.path.join(base,'data','exercise06','E-TABM-713_A-MEXP-1551-analytics.tsv')\n",
    "\n",
    "with open(os.path.join(base,'secrets.json')) as f:\n",
    "    secrets = json.load(f)\n",
    "\n",
    "conn = pymysql.connect(**secrets['test_db'])\n",
    "cursor = conn.cursor(pymysql.cursors.DictCursor)\n",
    "\n",
    "cursor.execute('create database if not exists biodb')\n"
   ]
  },
  {
   "cell_type": "code",
   "execution_count": 3,
   "metadata": {
    "collapsed": false
   },
   "outputs": [
    {
     "data": {
      "text/html": [
       "<div>\n",
       "<table border=\"1\" class=\"dataframe\">\n",
       "  <thead>\n",
       "    <tr style=\"text-align: right;\">\n",
       "      <th></th>\n",
       "      <th>Gene ID</th>\n",
       "      <th>Gene Name</th>\n",
       "      <th>Design Element</th>\n",
       "      <th>g1_g2.p-value</th>\n",
       "      <th>g1_g2.t-statistic</th>\n",
       "      <th>g1_g2.log2foldchange</th>\n",
       "    </tr>\n",
       "  </thead>\n",
       "  <tbody>\n",
       "    <tr>\n",
       "      <th>0</th>\n",
       "      <td>MIMAT0000062</td>\n",
       "      <td>MIMAT0000062</td>\n",
       "      <td>A_25_P00010086</td>\n",
       "      <td>0.702506</td>\n",
       "      <td>0.625362</td>\n",
       "      <td>0.078492</td>\n",
       "    </tr>\n",
       "    <tr>\n",
       "      <th>1</th>\n",
       "      <td>MIMAT0000062</td>\n",
       "      <td>MIMAT0000062</td>\n",
       "      <td>A_25_P00011584</td>\n",
       "      <td>0.975514</td>\n",
       "      <td>0.065110</td>\n",
       "      <td>0.007410</td>\n",
       "    </tr>\n",
       "    <tr>\n",
       "      <th>2</th>\n",
       "      <td>MIMAT0000063</td>\n",
       "      <td>MIMAT0000063</td>\n",
       "      <td>A_25_P00010070</td>\n",
       "      <td>0.139014</td>\n",
       "      <td>2.431636</td>\n",
       "      <td>0.556112</td>\n",
       "    </tr>\n",
       "    <tr>\n",
       "      <th>3</th>\n",
       "      <td>MIMAT0000063</td>\n",
       "      <td>MIMAT0000063</td>\n",
       "      <td>A_25_P00010071</td>\n",
       "      <td>0.049728</td>\n",
       "      <td>3.254492</td>\n",
       "      <td>0.811621</td>\n",
       "    </tr>\n",
       "    <tr>\n",
       "      <th>4</th>\n",
       "      <td>MIMAT0000064</td>\n",
       "      <td>MIMAT0000064</td>\n",
       "      <td>A_25_P00010072</td>\n",
       "      <td>0.098283</td>\n",
       "      <td>2.697813</td>\n",
       "      <td>0.757066</td>\n",
       "    </tr>\n",
       "  </tbody>\n",
       "</table>\n",
       "</div>"
      ],
      "text/plain": [
       "        Gene ID     Gene Name  Design Element  g1_g2.p-value  \\\n",
       "0  MIMAT0000062  MIMAT0000062  A_25_P00010086       0.702506   \n",
       "1  MIMAT0000062  MIMAT0000062  A_25_P00011584       0.975514   \n",
       "2  MIMAT0000063  MIMAT0000063  A_25_P00010070       0.139014   \n",
       "3  MIMAT0000063  MIMAT0000063  A_25_P00010071       0.049728   \n",
       "4  MIMAT0000064  MIMAT0000064  A_25_P00010072       0.098283   \n",
       "\n",
       "   g1_g2.t-statistic  g1_g2.log2foldchange  \n",
       "0           0.625362              0.078492  \n",
       "1           0.065110              0.007410  \n",
       "2           2.431636              0.556112  \n",
       "3           3.254492              0.811621  \n",
       "4           2.697813              0.757066  "
      ]
     },
     "execution_count": 3,
     "metadata": {},
     "output_type": "execute_result"
    }
   ],
   "source": [
    "# load data to dataframe\n",
    "df = pd.read_csv(pathTofile,sep='\\t')\n",
    "df.head()"
   ]
  },
  {
   "cell_type": "code",
   "execution_count": 9,
   "metadata": {
    "collapsed": false
   },
   "outputs": [
    {
     "name": "stderr",
     "output_type": "stream",
     "text": [
      "C:\\Users\\Sakthi\\Anaconda2\\envs\\ipykernel_py3\\lib\\site-packages\\pandas\\core\\generic.py:1165: FutureWarning: The 'mysql' flavor with DBAPI connection is deprecated and will be removed in future versions. MySQL will be further supported with SQLAlchemy connectables.\n",
      "  chunksize=chunksize, dtype=dtype)\n"
     ]
    },
    {
     "ename": "ValueError",
     "evalue": "Table 'dea' already exists.",
     "output_type": "error",
     "traceback": [
      "\u001b[0;31m---------------------------------------------------------------------------\u001b[0m",
      "\u001b[0;31mValueError\u001b[0m                                Traceback (most recent call last)",
      "\u001b[0;32m<ipython-input-9-d3f74e5a8550>\u001b[0m in \u001b[0;36m<module>\u001b[0;34m()\u001b[0m\n\u001b[1;32m      6\u001b[0m \u001b[0mdf\u001b[0m\u001b[1;33m.\u001b[0m\u001b[0mcolumns\u001b[0m \u001b[1;33m=\u001b[0m \u001b[1;33m[\u001b[0m\u001b[0mre\u001b[0m\u001b[1;33m.\u001b[0m\u001b[0msub\u001b[0m\u001b[1;33m(\u001b[0m\u001b[1;34m'[ .-]'\u001b[0m\u001b[1;33m,\u001b[0m\u001b[1;34m''\u001b[0m\u001b[1;33m,\u001b[0m\u001b[0mx\u001b[0m\u001b[1;33m)\u001b[0m \u001b[1;32mfor\u001b[0m \u001b[0mx\u001b[0m \u001b[1;32min\u001b[0m \u001b[0mdf\u001b[0m\u001b[1;33m.\u001b[0m\u001b[0mcolumns\u001b[0m\u001b[1;33m]\u001b[0m\u001b[1;33m\u001b[0m\u001b[0m\n\u001b[1;32m      7\u001b[0m \u001b[1;33m\u001b[0m\u001b[0m\n\u001b[0;32m----> 8\u001b[0;31m \u001b[0mdf\u001b[0m\u001b[1;33m.\u001b[0m\u001b[0mto_sql\u001b[0m\u001b[1;33m(\u001b[0m\u001b[1;34m'dea'\u001b[0m\u001b[1;33m,\u001b[0m\u001b[0mconn\u001b[0m\u001b[1;33m,\u001b[0m\u001b[0mflavor\u001b[0m \u001b[1;33m=\u001b[0m \u001b[1;34m'mysql'\u001b[0m\u001b[1;33m)\u001b[0m\u001b[1;33m\u001b[0m\u001b[0m\n\u001b[0m",
      "\u001b[0;32mC:\\Users\\Sakthi\\Anaconda2\\envs\\ipykernel_py3\\lib\\site-packages\\pandas\\core\\generic.py\u001b[0m in \u001b[0;36mto_sql\u001b[0;34m(self, name, con, flavor, schema, if_exists, index, index_label, chunksize, dtype)\u001b[0m\n\u001b[1;32m   1163\u001b[0m         sql.to_sql(self, name, con, flavor=flavor, schema=schema,\n\u001b[1;32m   1164\u001b[0m                    \u001b[0mif_exists\u001b[0m\u001b[1;33m=\u001b[0m\u001b[0mif_exists\u001b[0m\u001b[1;33m,\u001b[0m \u001b[0mindex\u001b[0m\u001b[1;33m=\u001b[0m\u001b[0mindex\u001b[0m\u001b[1;33m,\u001b[0m \u001b[0mindex_label\u001b[0m\u001b[1;33m=\u001b[0m\u001b[0mindex_label\u001b[0m\u001b[1;33m,\u001b[0m\u001b[1;33m\u001b[0m\u001b[0m\n\u001b[0;32m-> 1165\u001b[0;31m                    chunksize=chunksize, dtype=dtype)\n\u001b[0m\u001b[1;32m   1166\u001b[0m \u001b[1;33m\u001b[0m\u001b[0m\n\u001b[1;32m   1167\u001b[0m     \u001b[1;32mdef\u001b[0m \u001b[0mto_pickle\u001b[0m\u001b[1;33m(\u001b[0m\u001b[0mself\u001b[0m\u001b[1;33m,\u001b[0m \u001b[0mpath\u001b[0m\u001b[1;33m)\u001b[0m\u001b[1;33m:\u001b[0m\u001b[1;33m\u001b[0m\u001b[0m\n",
      "\u001b[0;32mC:\\Users\\Sakthi\\Anaconda2\\envs\\ipykernel_py3\\lib\\site-packages\\pandas\\io\\sql.py\u001b[0m in \u001b[0;36mto_sql\u001b[0;34m(frame, name, con, flavor, schema, if_exists, index, index_label, chunksize, dtype)\u001b[0m\n\u001b[1;32m    569\u001b[0m     pandas_sql.to_sql(frame, name, if_exists=if_exists, index=index,\n\u001b[1;32m    570\u001b[0m                       \u001b[0mindex_label\u001b[0m\u001b[1;33m=\u001b[0m\u001b[0mindex_label\u001b[0m\u001b[1;33m,\u001b[0m \u001b[0mschema\u001b[0m\u001b[1;33m=\u001b[0m\u001b[0mschema\u001b[0m\u001b[1;33m,\u001b[0m\u001b[1;33m\u001b[0m\u001b[0m\n\u001b[0;32m--> 571\u001b[0;31m                       chunksize=chunksize, dtype=dtype)\n\u001b[0m\u001b[1;32m    572\u001b[0m \u001b[1;33m\u001b[0m\u001b[0m\n\u001b[1;32m    573\u001b[0m \u001b[1;33m\u001b[0m\u001b[0m\n",
      "\u001b[0;32mC:\\Users\\Sakthi\\Anaconda2\\envs\\ipykernel_py3\\lib\\site-packages\\pandas\\io\\sql.py\u001b[0m in \u001b[0;36mto_sql\u001b[0;34m(self, frame, name, if_exists, index, index_label, schema, chunksize, dtype)\u001b[0m\n\u001b[1;32m   1659\u001b[0m                             \u001b[0mif_exists\u001b[0m\u001b[1;33m=\u001b[0m\u001b[0mif_exists\u001b[0m\u001b[1;33m,\u001b[0m \u001b[0mindex_label\u001b[0m\u001b[1;33m=\u001b[0m\u001b[0mindex_label\u001b[0m\u001b[1;33m,\u001b[0m\u001b[1;33m\u001b[0m\u001b[0m\n\u001b[1;32m   1660\u001b[0m                             dtype=dtype)\n\u001b[0;32m-> 1661\u001b[0;31m         \u001b[0mtable\u001b[0m\u001b[1;33m.\u001b[0m\u001b[0mcreate\u001b[0m\u001b[1;33m(\u001b[0m\u001b[1;33m)\u001b[0m\u001b[1;33m\u001b[0m\u001b[0m\n\u001b[0m\u001b[1;32m   1662\u001b[0m         \u001b[0mtable\u001b[0m\u001b[1;33m.\u001b[0m\u001b[0minsert\u001b[0m\u001b[1;33m(\u001b[0m\u001b[0mchunksize\u001b[0m\u001b[1;33m)\u001b[0m\u001b[1;33m\u001b[0m\u001b[0m\n\u001b[1;32m   1663\u001b[0m \u001b[1;33m\u001b[0m\u001b[0m\n",
      "\u001b[0;32mC:\\Users\\Sakthi\\Anaconda2\\envs\\ipykernel_py3\\lib\\site-packages\\pandas\\io\\sql.py\u001b[0m in \u001b[0;36mcreate\u001b[0;34m(self)\u001b[0m\n\u001b[1;32m    690\u001b[0m         \u001b[1;32mif\u001b[0m \u001b[0mself\u001b[0m\u001b[1;33m.\u001b[0m\u001b[0mexists\u001b[0m\u001b[1;33m(\u001b[0m\u001b[1;33m)\u001b[0m\u001b[1;33m:\u001b[0m\u001b[1;33m\u001b[0m\u001b[0m\n\u001b[1;32m    691\u001b[0m             \u001b[1;32mif\u001b[0m \u001b[0mself\u001b[0m\u001b[1;33m.\u001b[0m\u001b[0mif_exists\u001b[0m \u001b[1;33m==\u001b[0m \u001b[1;34m'fail'\u001b[0m\u001b[1;33m:\u001b[0m\u001b[1;33m\u001b[0m\u001b[0m\n\u001b[0;32m--> 692\u001b[0;31m                 \u001b[1;32mraise\u001b[0m \u001b[0mValueError\u001b[0m\u001b[1;33m(\u001b[0m\u001b[1;34m\"Table '%s' already exists.\"\u001b[0m \u001b[1;33m%\u001b[0m \u001b[0mself\u001b[0m\u001b[1;33m.\u001b[0m\u001b[0mname\u001b[0m\u001b[1;33m)\u001b[0m\u001b[1;33m\u001b[0m\u001b[0m\n\u001b[0m\u001b[1;32m    693\u001b[0m             \u001b[1;32melif\u001b[0m \u001b[0mself\u001b[0m\u001b[1;33m.\u001b[0m\u001b[0mif_exists\u001b[0m \u001b[1;33m==\u001b[0m \u001b[1;34m'replace'\u001b[0m\u001b[1;33m:\u001b[0m\u001b[1;33m\u001b[0m\u001b[0m\n\u001b[1;32m    694\u001b[0m                 \u001b[0mself\u001b[0m\u001b[1;33m.\u001b[0m\u001b[0mpd_sql\u001b[0m\u001b[1;33m.\u001b[0m\u001b[0mdrop_table\u001b[0m\u001b[1;33m(\u001b[0m\u001b[0mself\u001b[0m\u001b[1;33m.\u001b[0m\u001b[0mname\u001b[0m\u001b[1;33m,\u001b[0m \u001b[0mself\u001b[0m\u001b[1;33m.\u001b[0m\u001b[0mschema\u001b[0m\u001b[1;33m)\u001b[0m\u001b[1;33m\u001b[0m\u001b[0m\n",
      "\u001b[0;31mValueError\u001b[0m: Table 'dea' already exists."
     ]
    }
   ],
   "source": [
    "# create table from data frame\n",
    "\n",
    "cursor.execute('use biodb')\n",
    "\n",
    "#fix column names\n",
    "df.columns = [re.sub('[ .-]','',x) for x in df.columns]\n",
    "\n",
    "df.to_sql('dea',conn,flavor = 'mysql')"
   ]
  },
  {
   "cell_type": "code",
   "execution_count": 10,
   "metadata": {
    "collapsed": false
   },
   "outputs": [
    {
     "data": {
      "text/plain": [
       "[{'Tables_in_biodb': 'ache'},\n",
       " {'Tables_in_biodb': 'dea'},\n",
       " {'Tables_in_biodb': 'drugbank'},\n",
       " {'Tables_in_biodb': 'new_table_name2'},\n",
       " {'Tables_in_biodb': 'uniprot'}]"
      ]
     },
     "execution_count": 10,
     "metadata": {},
     "output_type": "execute_result"
    }
   ],
   "source": [
    "#check if table is created\n",
    "cursor.execute(\"show tables\")\n",
    "cursor.fetchall()"
   ]
  },
  {
   "cell_type": "code",
   "execution_count": 11,
   "metadata": {
    "collapsed": false
   },
   "outputs": [
    {
     "data": {
      "text/plain": [
       "[{'DesignElement': 'A_25_P00010086',\n",
       "  'GeneID': 'MIMAT0000062',\n",
       "  'GeneName': 'MIMAT0000062',\n",
       "  'g1_g2log2foldchange': 0.0784915951074403,\n",
       "  'g1_g2pvalue': 0.70250559386657,\n",
       "  'g1_g2tstatistic': 0.625362183554288,\n",
       "  'index': 0},\n",
       " {'DesignElement': 'A_25_P00011584',\n",
       "  'GeneID': 'MIMAT0000062',\n",
       "  'GeneName': 'MIMAT0000062',\n",
       "  'g1_g2log2foldchange': 0.00741007045087905,\n",
       "  'g1_g2pvalue': 0.975513746316429,\n",
       "  'g1_g2tstatistic': 0.0651101242194695,\n",
       "  'index': 1},\n",
       " {'DesignElement': 'A_25_P00010070',\n",
       "  'GeneID': 'MIMAT0000063',\n",
       "  'GeneName': 'MIMAT0000063',\n",
       "  'g1_g2log2foldchange': 0.556111895299825,\n",
       "  'g1_g2pvalue': 0.139013519150447,\n",
       "  'g1_g2tstatistic': 2.43163612513429,\n",
       "  'index': 2},\n",
       " {'DesignElement': 'A_25_P00010071',\n",
       "  'GeneID': 'MIMAT0000063',\n",
       "  'GeneName': 'MIMAT0000063',\n",
       "  'g1_g2log2foldchange': 0.811621134771325,\n",
       "  'g1_g2pvalue': 0.0497282355402996,\n",
       "  'g1_g2tstatistic': 3.25449181729957,\n",
       "  'index': 3},\n",
       " {'DesignElement': 'A_25_P00010072',\n",
       "  'GeneID': 'MIMAT0000064',\n",
       "  'GeneName': 'MIMAT0000064',\n",
       "  'g1_g2log2foldchange': 0.757065824690136,\n",
       "  'g1_g2pvalue': 0.098282650062664,\n",
       "  'g1_g2tstatistic': 2.69781280670979,\n",
       "  'index': 4},\n",
       " {'DesignElement': 'A_25_P00010073',\n",
       "  'GeneID': 'MIMAT0000064',\n",
       "  'GeneName': 'MIMAT0000064',\n",
       "  'g1_g2log2foldchange': 0.440504336234509,\n",
       "  'g1_g2pvalue': 0.324778784391911,\n",
       "  'g1_g2tstatistic': 1.6485897929498,\n",
       "  'index': 5},\n",
       " {'DesignElement': 'A_25_P00010281',\n",
       "  'GeneID': 'MIMAT0000065',\n",
       "  'GeneName': 'MIMAT0000065',\n",
       "  'g1_g2log2foldchange': 0.382716406596201,\n",
       "  'g1_g2pvalue': 0.103149521552763,\n",
       "  'g1_g2tstatistic': 2.66619309645875,\n",
       "  'index': 6},\n",
       " {'DesignElement': 'A_25_P00010282',\n",
       "  'GeneID': 'MIMAT0000065',\n",
       "  'GeneName': 'MIMAT0000065',\n",
       "  'g1_g2log2foldchange': 0.287800723552511,\n",
       "  'g1_g2pvalue': 0.217890974906888,\n",
       "  'g1_g2tstatistic': 2.04707816939775,\n",
       "  'index': 7},\n",
       " {'DesignElement': 'A_25_P00010279',\n",
       "  'GeneID': 'MIMAT0000066',\n",
       "  'GeneName': 'MIMAT0000066',\n",
       "  'g1_g2log2foldchange': 0.273173539884437,\n",
       "  'g1_g2pvalue': 0.418035430330721,\n",
       "  'g1_g2tstatistic': 1.35920391036664,\n",
       "  'index': 8},\n",
       " {'DesignElement': 'A_25_P00010280',\n",
       "  'GeneID': 'MIMAT0000066',\n",
       "  'GeneName': 'MIMAT0000066',\n",
       "  'g1_g2log2foldchange': 0.328118623046588,\n",
       "  'g1_g2pvalue': 0.424109931973133,\n",
       "  'g1_g2tstatistic': 1.33601337026944,\n",
       "  'index': 9}]"
      ]
     },
     "execution_count": 11,
     "metadata": {},
     "output_type": "execute_result"
    }
   ],
   "source": [
    "# to fetch first 10 lines from dea\n",
    "\n",
    "cursor.execute(\"select * from dea limit 10\")\n",
    "cursor.fetchall()"
   ]
  },
  {
   "cell_type": "code",
   "execution_count": 13,
   "metadata": {
    "collapsed": false
   },
   "outputs": [
    {
     "data": {
      "text/plain": [
       "[{'no_of_rows': 1230}]"
      ]
     },
     "execution_count": 13,
     "metadata": {},
     "output_type": "execute_result"
    }
   ],
   "source": [
    "# count the number of rows in the table\n",
    "\n",
    "cursor.execute('select count(*) as no_of_rows from dea')\n",
    "cursor.fetchall()"
   ]
  },
  {
   "cell_type": "code",
   "execution_count": 23,
   "metadata": {
    "collapsed": false
   },
   "outputs": [
    {
     "data": {
      "text/plain": [
       "[{'Average_p_value': 0.4529776486719517}]"
      ]
     },
     "execution_count": 23,
     "metadata": {},
     "output_type": "execute_result"
    }
   ],
   "source": [
    "# average p_value for entire data\n",
    "\n",
    "cursor.execute('select avg(g1_g2pvalue) as Average_p_value from dea')\n",
    "cursor.fetchall()"
   ]
  },
  {
   "cell_type": "code",
   "execution_count": 26,
   "metadata": {
    "collapsed": false
   },
   "outputs": [
    {
     "data": {
      "text/plain": [
       "[{'Average_p_value': None, 'GeneName': 'MIMAT0000079'},\n",
       " {'Average_p_value': 0.000321778898634328, 'GeneName': 'MIMAT0003227'},\n",
       " {'Average_p_value': 0.00145162156673662, 'GeneName': 'MIMAT0003304'},\n",
       " {'Average_p_value': 0.0022527138479248, 'GeneName': 'MIMAT0000082'},\n",
       " {'Average_p_value': 0.00253015446820666, 'GeneName': 'MIMAT0003227'}]"
      ]
     },
     "execution_count": 26,
     "metadata": {},
     "output_type": "execute_result"
    }
   ],
   "source": [
    "# average p_value for each gene\n",
    "\n",
    "cursor.execute('select GeneName ,avg(g1_g2pvalue) as Average_p_value from dea GROUP BY g1_g2pvalue limit 5')\n",
    "cursor.fetchall()"
   ]
  },
  {
   "cell_type": "code",
   "execution_count": 29,
   "metadata": {
    "collapsed": false
   },
   "outputs": [
    {
     "data": {
      "text/plain": [
       "[{'GeneName': 'MIMAT0000451', 'g1_g2log2foldchange': -1.44215632547793}]"
      ]
     },
     "execution_count": 29,
     "metadata": {},
     "output_type": "execute_result"
    }
   ],
   "source": [
    "#gene with highest fold change lowest fold change\n",
    "\n",
    "cursor.execute('select GeneName, g1_g2log2foldchange from dea where g1_g2log2foldchange = (select min(g1_g2log2foldchange) from dea)')\n",
    "cursor.fetchall()"
   ]
  },
  {
   "cell_type": "code",
   "execution_count": 30,
   "metadata": {
    "collapsed": false
   },
   "outputs": [
    {
     "data": {
      "text/plain": [
       "[{'GeneName': 'MIMAT0002177', 'g1_g2log2foldchange': 2.68544495738703}]"
      ]
     },
     "execution_count": 30,
     "metadata": {},
     "output_type": "execute_result"
    }
   ],
   "source": [
    "cursor.execute('select GeneName, g1_g2log2foldchange from dea where g1_g2log2foldchange = (select max(g1_g2log2foldchange) from dea)')\n",
    "cursor.fetchall()"
   ]
  }
 ],
 "metadata": {
  "kernelspec": {
   "display_name": "Python 3",
   "language": "python",
   "name": "python3"
  },
  "language_info": {
   "codemirror_mode": {
    "name": "ipython",
    "version": 3
   },
   "file_extension": ".py",
   "mimetype": "text/x-python",
   "name": "python",
   "nbconvert_exporter": "python",
   "pygments_lexer": "ipython3",
   "version": "3.5.2"
  }
 },
 "nbformat": 4,
 "nbformat_minor": 0
}
