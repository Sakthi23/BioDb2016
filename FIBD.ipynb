{
 "cells": [
  {
   "cell_type": "code",
   "execution_count": 3,
   "metadata": {
    "collapsed": false
   },
   "outputs": [
    {
     "name": "stdout",
     "output_type": "stream",
     "text": [
      "61115936848684058\n"
     ]
    }
   ],
   "source": [
    "input_data = open('rosalind_fibd.txt')\n",
    "n,m = map(int, input_data.read().split())\n",
    "\n",
    "O_Rabbits = [1]+[0]*(m-1) # initial population\n",
    "\n",
    "for i in range(1, n):\n",
    "    Y_Rabbits = 0\n",
    "    for j in range(1,m): # number of rabbits that give birth\n",
    "        Y_Rabbits += O_Rabbits[(i-j-1) % m]\n",
    "    O_Rabbits[i % m] = Y_Rabbits # young one's replacing dead rabbits\n",
    "\n",
    "Total_Rabbits = sum(O_Rabbits)\n",
    "\n",
    "print (Total_Rabbits)"
   ]
  }
 ],
 "metadata": {
  "kernelspec": {
   "display_name": "Python [default]",
   "language": "python",
   "name": "python3"
  },
  "language_info": {
   "codemirror_mode": {
    "name": "ipython",
    "version": 3
   },
   "file_extension": ".py",
   "mimetype": "text/x-python",
   "name": "python",
   "nbconvert_exporter": "python",
   "pygments_lexer": "ipython3",
   "version": "3.5.2"
  }
 },
 "nbformat": 4,
 "nbformat_minor": 0
}
