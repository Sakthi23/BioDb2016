{
 "cells": [
  {
   "cell_type": "code",
   "execution_count": 22,
   "metadata": {
    "collapsed": false
   },
   "outputs": [
    {
     "name": "stdout",
     "output_type": "stream",
     "text": [
      "662854323131\n"
     ]
    }
   ],
   "source": [
    "def rabrec(n, k):\n",
    "    if n == 0:\n",
    "        return 0\n",
    "    if n == 1:\n",
    "        return 1\n",
    "    else:\n",
    "        return (rabrec(n-1, k) + k*rabrec(n-2, k))\n",
    "    \n",
    "filein = open('rosalind_fib.txt', \"r\")\n",
    "array = filein.readlines()\n",
    "\n",
    "num = array[0].split()\n",
    "n = int(num[0])\n",
    "k = int(num[1])\n",
    "\n",
    "print (rabrec(n,k))"
   ]
  }
 ],
 "metadata": {
  "kernelspec": {
   "display_name": "Python 3",
   "language": "python",
   "name": "python3"
  },
  "language_info": {
   "codemirror_mode": {
    "name": "ipython",
    "version": 3
   },
   "file_extension": ".py",
   "mimetype": "text/x-python",
   "name": "python",
   "nbconvert_exporter": "python",
   "pygments_lexer": "ipython3",
   "version": "3.5.2"
  }
 },
 "nbformat": 4,
 "nbformat_minor": 0
}
