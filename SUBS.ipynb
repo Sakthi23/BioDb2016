{
 "cells": [
  {
   "cell_type": "code",
   "execution_count": 5,
   "metadata": {
    "collapsed": false
   },
   "outputs": [
    {
     "name": "stdout",
     "output_type": "stream",
     "text": [
      "11 18 35 42 50 77 84 102 121 128 200 220 245 252 333 341 361 454 593 652 669 676 683 690 716 764\n"
     ]
    }
   ],
   "source": [
    "filein=open(\"rosalind_subs.txt\",'r')\n",
    "a,b=filein.readlines()\n",
    "a = a.strip()\n",
    "b = b.strip()\n",
    "\n",
    "locations = []\n",
    "for i in range(0, len(a)-len(b)+1):\n",
    "    if a[i:i+len(b)] == b:\n",
    "        locations.append(str(i+1))\n",
    "        \n",
    "print (' '.join(locations))"
   ]
  }
 ],
 "metadata": {
  "anaconda-cloud": {},
  "kernelspec": {
   "display_name": "Python [default]",
   "language": "python",
   "name": "python3"
  },
  "language_info": {
   "codemirror_mode": {
    "name": "ipython",
    "version": 3
   },
   "file_extension": ".py",
   "mimetype": "text/x-python",
   "name": "python",
   "nbconvert_exporter": "python",
   "pygments_lexer": "ipython3",
   "version": "3.5.2"
  }
 },
 "nbformat": 4,
 "nbformat_minor": 0
}
