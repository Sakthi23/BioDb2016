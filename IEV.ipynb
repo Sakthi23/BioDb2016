{
 "cells": [
  {
   "cell_type": "code",
   "execution_count": 4,
   "metadata": {
    "collapsed": false
   },
   "outputs": [
    {
     "name": "stdout",
     "output_type": "stream",
     "text": [
      "152856.0\n"
     ]
    }
   ],
   "source": [
    "filein = open('rosalind_iev.txt')\n",
    "num = filein.read().split()\n",
    "\n",
    "p_list = [1, 1, 1, 0.75, 0.5, 0] # refer code of IPRB (Mendel's first law)\n",
    "EV_list =[]\n",
    "\n",
    "for index, num_of_parents in enumerate(num):\n",
    "    EV_list.append(2*int(num_of_parents)*p_list[index])\n",
    "\n",
    "print (sum(EV_list))"
   ]
  }
 ],
 "metadata": {
  "kernelspec": {
   "display_name": "Python 3",
   "language": "python",
   "name": "python3"
  },
  "language_info": {
   "codemirror_mode": {
    "name": "ipython",
    "version": 3
   },
   "file_extension": ".py",
   "mimetype": "text/x-python",
   "name": "python",
   "nbconvert_exporter": "python",
   "pygments_lexer": "ipython3",
   "version": "3.5.2"
  }
 },
 "nbformat": 4,
 "nbformat_minor": 0
}
