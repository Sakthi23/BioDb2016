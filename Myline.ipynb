{
 "cells": [
  {
   "cell_type": "markdown",
   "metadata": {},
   "source": [
    "***In the face of ambiguity, refuse the temptation to guess.***"
   ]
  },
  {
   "cell_type": "markdown",
   "metadata": {},
   "source": [
    "- something having more than one possible meaning\n",
    "- more than one interpretation; inexactness\n",
    "- unclear"
   ]
  },
  {
   "cell_type": "markdown",
   "metadata": {},
   "source": [
    "# General example to understand what is ambiguity\n",
    "\n",
    " \"Jack saw the man with binoculars.\""
   ]
  },
  {
   "cell_type": "code",
   "execution_count": null,
   "metadata": {
    "collapsed": true
   },
   "outputs": [],
   "source": [
    "#Examples\n",
    "\n",
    "if not a and b:\n",
    "            do something\n",
    "\n",
    "if not (a and b):\n",
    "            do something\n",
    "        \n",
    "if b and not a:\n",
    "    do something\n",
    "    \n",
    "if (not a) and b: # more reliable\n",
    "    do something"
   ]
  },
  {
   "cell_type": "code",
   "execution_count": null,
   "metadata": {
    "collapsed": false
   },
   "outputs": [],
   "source": [
    "\"\"\" Store a HTTP request in the database. \"\"\"\n",
    "\n",
    "def process(response):\n",
    "    db.store(url, response.body)\n",
    "\n",
    "#-----------------------------------------------------------------------\n",
    "\n",
    "def process(response):\n",
    "    charset = detect_charset(response)\n",
    "    db.store(url, response.body.decode(charset))"
   ]
  }
 ],
 "metadata": {
  "kernelspec": {
   "display_name": "Python 3",
   "language": "python",
   "name": "python3"
  },
  "language_info": {
   "codemirror_mode": {
    "name": "ipython",
    "version": 3
   },
   "file_extension": ".py",
   "mimetype": "text/x-python",
   "name": "python",
   "nbconvert_exporter": "python",
   "pygments_lexer": "ipython3",
   "version": "3.5.2"
  }
 },
 "nbformat": 4,
 "nbformat_minor": 0
}
