{
 "cells": [
  {
   "cell_type": "code",
   "execution_count": 4,
   "metadata": {
    "collapsed": false
   },
   "outputs": [
    {
     "name": "stdout",
     "output_type": "stream",
     "text": [
      "0.80716\n"
     ]
    }
   ],
   "source": [
    "filein = open('rosalind_iprb.txt', \"r\")\n",
    "array = filein.readlines()\n",
    "\n",
    "num = array[0].split()\n",
    "k = int(num[0])\n",
    "m = int(num[1])\n",
    "n = int(num[2])\n",
    "\n",
    "\n",
    "total = (k + m + n)\n",
    "#AA(homozygous) x Aa(heterozygous): AA, Aa, AA, Aa\n",
    "#AA x AA, AA x Aa, AA x aa, Aa x Aa, Aa x aa\n",
    "p1 = k / total #(both mating organisms are homozygous dominant)\n",
    "p2 = (m / total) * (k / (total - 1)) * 1 #(heterozygous and homozygous)\n",
    "p3 = (m / total) * ((m - 1)/ (total - 1)) * 0.75 #(both are heterozygous)\n",
    "p4 = (m / total) * (n / (total - 1)) * 0.5 #(heterzygous and homozygous recessive)\n",
    "p5 = (n / total) * (m / (total - 1)) * 0.5 #(homozygous recessive and heterozygous)\n",
    "p6 = (n / total) * (k / (total - 1)) * 1 #(homozygous recessive and homozygous dominant)\n",
    "\n",
    "print('%.5f' % (p1 + p2 + p3 + p4 + p5 + p6)) # sum of pobabilities of all possibilities"
   ]
  }
 ],
 "metadata": {
  "kernelspec": {
   "display_name": "Python 3",
   "language": "python",
   "name": "python3"
  },
  "language_info": {
   "codemirror_mode": {
    "name": "ipython",
    "version": 3
   },
   "file_extension": ".py",
   "mimetype": "text/x-python",
   "name": "python",
   "nbconvert_exporter": "python",
   "pygments_lexer": "ipython3",
   "version": "3.5.2"
  }
 },
 "nbformat": 4,
 "nbformat_minor": 0
}
