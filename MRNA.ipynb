{
 "cells": [
  {
   "cell_type": "code",
   "execution_count": 10,
   "metadata": {
    "collapsed": false
   },
   "outputs": [
    {
     "name": "stdout",
     "output_type": "stream",
     "text": [
      "123392\n"
     ]
    }
   ],
   "source": [
    "dict = {'A':4,'R':6,'N':2,'D':2,'C':2,'Q':2,'E':2,'G':4,'H':2,'I':3,'L':6,'K':2,'M':1,'F':2,'P':4,'S':6,'T':4,'W':1,'Y':2,'V':4,'*':3}\n",
    "filein = open('rosalind_mrna.txt','r')\n",
    "seq = filein.readline().strip()\n",
    "   \n",
    "product = 1\n",
    "for x in range(len(seq)):\n",
    "    product = product*dict[seq[x]]\n",
    "    if product>1000000:\n",
    "        product = product % 1000000\n",
    "    \n",
    "#stop!\n",
    "product = product*3\n",
    "product = product % 1000000\n",
    "print (product)"
   ]
  }
 ],
 "metadata": {
  "kernelspec": {
   "display_name": "Python 3",
   "language": "python",
   "name": "python3"
  },
  "language_info": {
   "codemirror_mode": {
    "name": "ipython",
    "version": 3
   },
   "file_extension": ".py",
   "mimetype": "text/x-python",
   "name": "python",
   "nbconvert_exporter": "python",
   "pygments_lexer": "ipython3",
   "version": "3.5.2"
  }
 },
 "nbformat": 4,
 "nbformat_minor": 0
}
