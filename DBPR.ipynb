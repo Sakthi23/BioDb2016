{
 "cells": [
  {
   "cell_type": "code",
   "execution_count": 1,
   "metadata": {
    "collapsed": false
   },
   "outputs": [
    {
     "name": "stdout",
     "output_type": "stream",
     "text": [
      "one-carbon metabolic process\n",
      "S-adenosylmethionine biosynthetic process\n"
     ]
    }
   ],
   "source": [
    "from urllib.request import urlopen\n",
    "import re\n",
    "\n",
    "filein=open(\"rosalind_dbpr.txt\")\n",
    "\n",
    "Gene_name = filein.read().strip()\n",
    "output = urlopen('http://www.uniprot.org/uniprot/' + Gene_name + '.txt').read()\n",
    "data = output.decode('utf-8')\n",
    "\n",
    "for line in re.finditer(\"P:([a-zA-Z\\W ]*)\", data):\n",
    "    for content in line.groups():\n",
    "        content = content.split(\";\")\n",
    "        print(content[0])"
   ]
  }
 ],
 "metadata": {
  "kernelspec": {
   "display_name": "Python 3",
   "language": "python",
   "name": "python3"
  },
  "language_info": {
   "codemirror_mode": {
    "name": "ipython",
    "version": 3
   },
   "file_extension": ".py",
   "mimetype": "text/x-python",
   "name": "python",
   "nbconvert_exporter": "python",
   "pygments_lexer": "ipython3",
   "version": "3.5.2"
  }
 },
 "nbformat": 4,
 "nbformat_minor": 0
}
