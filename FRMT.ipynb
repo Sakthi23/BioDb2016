{
 "cells": [
  {
   "cell_type": "code",
   "execution_count": 2,
   "metadata": {
    "collapsed": false
   },
   "outputs": [
    {
     "name": "stdout",
     "output_type": "stream",
     "text": [
      ">gi|281182993|ref|NM_001168970.1| Papio anubis huntingtin interacting protein K (HYPK), mRNA\n",
      "ATGCGGCGGCGTGGTGAGATAGATATGGCGACTGAGGGGGATGTGGAGCTGGAGTTAGAGACTGAGACCA\n",
      "GTGGACCAGAGCGGCCTCCCGAGAAGCCACGGAAGCATGACAGCGGTGCCGCGGACTTGGAGCGGGTCAC\n",
      "CGACTATGCGGAGGAGAAGGAGATCCAGAGTTCCAATCTGGAGACGGCCATGTCTGTGATTGGAGACAGA\n",
      "AGGTCCCGGGAGCAGAAAGCCAAACAGGAGCGGGAGAAAGAACTGGCAAAAGTCACTATCAAGAAGGAAG\n",
      "ATCTGGAGCTGATAATGACCGAGATGGAGATATCTCGAGCAGCAGCAGAACGCAGCTTGCGGGAACACAT\n",
      "GGGCAACGTGGTAGAGGCGCTTATTGCCCTAACCAACTGA\n"
     ]
    }
   ],
   "source": [
    "from Bio import Entrez\n",
    "from Bio import SeqIO\n",
    "\n",
    "input_data = open('rosalind_frmt.txt') \n",
    "IDs = input_data.read().strip().split()\n",
    "\n",
    "Entrez.email = 'sakthi23293@gmail.com'\n",
    "handle = Entrez.efetch(db='nucleotide', id=IDs, rettype='fasta')\n",
    "records = list(SeqIO.parse(handle, 'fasta'))\n",
    "\n",
    "[min_index] = [i for i in range(len(records)) if len(records[i]) == min([len(record.seq) for record in records])]\n",
    "\n",
    "handle2 = Entrez.efetch(db='nucleotide', id=IDs, rettype='fasta')\n",
    "minFASTA = handle2.read().strip().split('\\n\\n')[min_index]\n",
    "\n",
    "print (minFASTA)"
   ]
  },
  {
   "cell_type": "code",
   "execution_count": null,
   "metadata": {
    "collapsed": true
   },
   "outputs": [],
   "source": []
  }
 ],
 "metadata": {
  "kernelspec": {
   "display_name": "Python [default]",
   "language": "python",
   "name": "python3"
  },
  "language_info": {
   "codemirror_mode": {
    "name": "ipython",
    "version": 3
   },
   "file_extension": ".py",
   "mimetype": "text/x-python",
   "name": "python",
   "nbconvert_exporter": "python",
   "pygments_lexer": "ipython3",
   "version": "3.5.2"
  }
 },
 "nbformat": 4,
 "nbformat_minor": 0
}
