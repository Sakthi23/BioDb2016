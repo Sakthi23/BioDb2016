{
 "cells": [
  {
   "cell_type": "code",
   "execution_count": 2,
   "metadata": {
    "collapsed": false
   },
   "outputs": [
    {
     "name": "stdout",
     "output_type": "stream",
     "text": [
      "P07987_GUX2_TRIRE\n",
      "38 313 334\n",
      "Q13VE3\n",
      "95\n",
      "P05231_IL6_HUMAN\n",
      "73 172\n",
      "B5FPF2\n",
      "18\n",
      "P07204_TRBM_HUMAN\n",
      "47 115 116 382 409\n",
      "P98119_URT1_DESRO\n",
      "153 398\n",
      "P10153_RNKD_HUMAN\n",
      "44 86 92 111 119\n",
      "P49286\n",
      "4 130\n",
      "P09791_PARB_TRYBB\n",
      "56\n",
      "P14210_HGF_HUMAN\n",
      "294 402 566 653\n"
     ]
    }
   ],
   "source": [
    "import re\n",
    "import requests\n",
    "from Bio import SeqIO\n",
    "from io import StringIO\n",
    "\n",
    "\n",
    "protein_motif = re.compile('(?=N[^P][ST][^P])')\n",
    "\n",
    "filein = open('rosalind_mprt.txt','r')\n",
    "acc_id = filein.read().strip().split('\\n')\n",
    "filein.close()\n",
    "\n",
    "\n",
    "for acc in acc_id:\n",
    "    r = requests.get('http://www.uniprot.org/uniprot/%s.fasta' % acc)\n",
    "    data = SeqIO.read(StringIO(r.text), 'fasta')\n",
    "    locations = []\n",
    "    \n",
    "    # Use search instead of match to search entire string\n",
    "    if re.search(protein_motif, str(data.seq)):\n",
    "        print(acc.strip())\n",
    "        for i in re.finditer(protein_motif, str(data.seq)):\n",
    "            locations.append(i.start() + 1)\n",
    "        print(\" \".join(map(str, locations)))"
   ]
  }
 ],
 "metadata": {
  "anaconda-cloud": {},
  "kernelspec": {
   "display_name": "Python [default]",
   "language": "python",
   "name": "python3"
  },
  "language_info": {
   "codemirror_mode": {
    "name": "ipython",
    "version": 3
   },
   "file_extension": ".py",
   "mimetype": "text/x-python",
   "name": "python",
   "nbconvert_exporter": "python",
   "pygments_lexer": "ipython3",
   "version": "3.5.2"
  }
 },
 "nbformat": 4,
 "nbformat_minor": 0
}
